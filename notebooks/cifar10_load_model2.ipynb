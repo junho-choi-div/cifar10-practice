{
 "cells": [
  {
   "cell_type": "code",
   "execution_count": 1,
   "id": "1f3f2657-95b3-4f2f-a671-3876eec1653d",
   "metadata": {},
   "outputs": [],
   "source": [
    "import numpy as np\n",
    "import matplotlib.pyplot as plt\n",
    "import os \n",
    "\n",
    "import torch\n",
    "import torch.nn as nn\n",
    "import torch.nn.functional as F\n",
    "import torch.utils.data as data\n",
    "from torchvision import transforms, datasets"
   ]
  },
  {
   "cell_type": "code",
   "execution_count": 2,
   "id": "fa023561-3633-4779-a288-a61bf7184fbf",
   "metadata": {},
   "outputs": [],
   "source": [
    "train_dir = '/home/jovyan/cifar10-practice/data/processed/cifar10_original_png/train'\n",
    "test_dir = '/home/jovyan/cifar10-practice/data/processed/cifar10_original_png/test'\n",
    "model_output_path = '/home/jovyan/cifar10-practice/models/cifar10.pt'"
   ]
  },
  {
   "cell_type": "code",
   "execution_count": 3,
   "id": "d8b28282-c78f-4388-bce2-3c03d6cb1a7c",
   "metadata": {},
   "outputs": [
    {
     "name": "stdout",
     "output_type": "stream",
     "text": [
      "Using PyTorch version: 1.10.0+cu102  Device: cpu\n"
     ]
    }
   ],
   "source": [
    "if torch.cuda.is_available():\n",
    "    DEVICE = torch.device('cuda')\n",
    "else:\n",
    "    DEVICE = torch.device('cpu')\n",
    "print('Using PyTorch version:', torch.__version__, ' Device:', DEVICE)"
   ]
  },
  {
   "cell_type": "code",
   "execution_count": 4,
   "id": "8f90db07-5705-4e95-a98c-15584afdf7e5",
   "metadata": {},
   "outputs": [],
   "source": [
    "class CNN(nn.Module):\n",
    "    def __init__(self):\n",
    "        super(CNN, self).__init__()\n",
    "        self.conv1 = nn.Conv2d(in_channels = 3, out_channels = 8, kernel_size = 3, padding = 1)\n",
    "        self.conv2 = nn.Conv2d(in_channels = 8, out_channels = 16, kernel_size = 3, padding = 1)\n",
    "        self.pool = nn.MaxPool2d(kernel_size = 2, stride = 2)\n",
    "        self.fc1 = nn.Linear(8 * 8 * 16, 64)\n",
    "        self.fc2 = nn.Linear(64, 32)\n",
    "        self.fc3 = nn.Linear(32, 10)\n",
    "        \n",
    "    def forward(self, x):\n",
    "        x = self.conv1(x)\n",
    "        x = F.relu(x)\n",
    "        x = self.pool(x)\n",
    "        x = self.conv2(x)\n",
    "        x = F.relu(x)\n",
    "        x = self.pool(x)\n",
    "        \n",
    "        x = x.view(-1, 8 * 8 * 16)\n",
    "        x = self.fc1(x)\n",
    "        x = F.relu(x)\n",
    "        x = self.fc2(x)\n",
    "        x = F.relu(x)\n",
    "        x = self.fc3(x)\n",
    "        x = F.log_softmax(x)\n",
    "        return x"
   ]
  },
  {
   "cell_type": "code",
   "execution_count": null,
   "id": "8be60308-5ff3-47aa-9781-de859ad4781b",
   "metadata": {},
   "outputs": [],
   "source": []
  },
  {
   "cell_type": "code",
   "execution_count": 5,
   "id": "dffab050-f68b-42cf-b8b0-c41e2ab7661e",
   "metadata": {},
   "outputs": [
    {
     "data": {
      "text/plain": [
       "<All keys matched successfully>"
      ]
     },
     "execution_count": 5,
     "metadata": {},
     "output_type": "execute_result"
    }
   ],
   "source": [
    "new_model_path = '/home/jovyan/cifar10-practice/models/cifar10-65.20.pt'\n",
    "\n",
    "idx_to_class = {0: 'airplane',\n",
    " 1: 'automobile',\n",
    " 2: 'bird',\n",
    " 3: 'cat',\n",
    " 4: 'deer',\n",
    " 5: 'dog',\n",
    " 6: 'frog',\n",
    " 7: 'horse',\n",
    " 8: 'ship',\n",
    " 9: 'truck'}\n",
    "model_reloaded = torch.load(new_model_path)\n",
    "loaded_model = CNN().to(DEVICE)\n",
    "loaded_model.load_state_dict(model_reloaded)"
   ]
  },
  {
   "cell_type": "code",
   "execution_count": 6,
   "id": "05ec6627-1e2a-4d4c-949b-221a3cf892f3",
   "metadata": {},
   "outputs": [
    {
     "name": "stdout",
     "output_type": "stream",
     "text": [
      "bird 0.6601915246381649\n"
     ]
    },
    {
     "name": "stderr",
     "output_type": "stream",
     "text": [
      "/usr/local/lib/python3.6/dist-packages/ipykernel_launcher.py:25: UserWarning: Implicit dimension choice for log_softmax has been deprecated. Change the call to include dim=X as an argument.\n"
     ]
    }
   ],
   "source": [
    "from PIL import Image\n",
    "\n",
    "test_img_path = '/home/jovyan/cifar10-practice/data/processed/cifar10_original_png/test/bird/00067.png'\n",
    "img_to_tensor = transforms.ToTensor()\n",
    "\n",
    "test_img = Image.open(test_img_path)\n",
    "test_img_tensor = img_to_tensor(test_img)\n",
    "test_img_stack = torch.stack((test_img_tensor,)).to(DEVICE)\n",
    "\n",
    "proba_logsoftmax = loaded_model(test_img_stack).tolist()[0]\n",
    "proba = [np.exp(val) for val in proba_logsoftmax]\n",
    "proba_max = max(proba)\n",
    "proba_max_idx = np.argmax(proba)\n",
    "pred_class = idx_to_class[proba_max_idx]\n",
    "print(pred_class, proba_max)"
   ]
  },
  {
   "cell_type": "code",
   "execution_count": null,
   "id": "be0c19a2-d2a0-4fed-9625-726ec0a1622c",
   "metadata": {},
   "outputs": [],
   "source": []
  }
 ],
 "metadata": {
  "kernelspec": {
   "display_name": "Python 3",
   "language": "python",
   "name": "python3"
  },
  "language_info": {
   "codemirror_mode": {
    "name": "ipython",
    "version": 3
   },
   "file_extension": ".py",
   "mimetype": "text/x-python",
   "name": "python",
   "nbconvert_exporter": "python",
   "pygments_lexer": "ipython3",
   "version": "3.6.9"
  }
 },
 "nbformat": 4,
 "nbformat_minor": 5
}
